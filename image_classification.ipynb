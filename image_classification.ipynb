{
 "cells": [
  {
   "cell_type": "code",
   "execution_count": 6,
   "id": "022ef7c2",
   "metadata": {},
   "outputs": [],
   "source": [
    "import os\n",
    "import random\n",
    "import numpy as np\n",
    "from PIL import Image\n",
    "import matplotlib.pyplot as plt\n",
    "from utils.load_dataset import *\n",
    "from utils.split_data import *\n",
    "from utils.activations import *"
   ]
  },
  {
   "cell_type": "code",
   "execution_count": null,
   "id": "4ef3ffcb",
   "metadata": {},
   "outputs": [],
   "source": [
    "def initialize_parameters(n_layers, n_units):\n",
    "    W = np.zeros((n_units,))"
   ]
  },
  {
   "cell_type": "code",
   "execution_count": null,
   "id": "6483de3a",
   "metadata": {},
   "outputs": [],
   "source": [
    "def propagate(X, Y, learning_rate=0.001, epochs=1000):\n",
    "    "
   ]
  },
  {
   "cell_type": "code",
   "execution_count": 2,
   "id": "6877ed49",
   "metadata": {},
   "outputs": [],
   "source": [
    "dataset_dir = '/Users/simon/workspace/deep_learning/deep-learning-implement/datasets/catvdog'"
   ]
  },
  {
   "cell_type": "code",
   "execution_count": 3,
   "id": "8aa30fa0",
   "metadata": {
    "scrolled": true
   },
   "outputs": [
    {
     "name": "stderr",
     "output_type": "stream",
     "text": [
      "/Users/simon/workspace/deep_learning/tf/lib/python3.10/site-packages/PIL/TiffImagePlugin.py:850: UserWarning: Truncated File Read\n",
      "  warnings.warn(str(msg))\n"
     ]
    }
   ],
   "source": [
    "dataset, classes = load_dataset(dataset_dir)\n",
    "X_train, Y_train, X_test, Y_test = split_data(dataset, 1000, 100)"
   ]
  }
 ],
 "metadata": {
  "kernelspec": {
   "display_name": "Python 3 (ipykernel)",
   "language": "python",
   "name": "python3"
  },
  "language_info": {
   "codemirror_mode": {
    "name": "ipython",
    "version": 3
   },
   "file_extension": ".py",
   "mimetype": "text/x-python",
   "name": "python",
   "nbconvert_exporter": "python",
   "pygments_lexer": "ipython3",
   "version": "3.10.8"
  }
 },
 "nbformat": 4,
 "nbformat_minor": 5
}
