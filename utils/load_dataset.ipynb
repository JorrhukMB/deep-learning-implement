{
 "cells": [
  {
   "cell_type": "code",
   "execution_count": 1,
   "id": "782569ba",
   "metadata": {},
   "outputs": [],
   "source": [
    "import os\n",
    "import random\n",
    "import numpy as np\n",
    "import matplotlib.pyplot as plt\n",
    "from PIL import Image"
   ]
  },
  {
   "cell_type": "code",
   "execution_count": 2,
   "id": "37ffe1cb",
   "metadata": {},
   "outputs": [],
   "source": [
    "def expand2square(img):\n",
    "    width, height = img.size\n",
    "    if width == height:\n",
    "        return img\n",
    "    \n",
    "    if width > height:\n",
    "        ret = Image.new('RGB', (width, width), (0, 0, 0))\n",
    "        ret.paste(img, (0, (width - height // 2)))\n",
    "    else:\n",
    "        ret = Image.new('RGB', (height, height), (0, 0, 0))\n",
    "        ret.paste(img, ((height - width // 2), 0))\n",
    "        \n",
    "    return ret"
   ]
  },
  {
   "cell_type": "code",
   "execution_count": 3,
   "id": "d0dad6ba",
   "metadata": {},
   "outputs": [],
   "source": [
    "def preprocess(img, target_size):\n",
    "    ret = img.convert('RGB')\n",
    "    ret = expand2square(ret)\n",
    "    ret = ret.resize(target_size)\n",
    "    \n",
    "    ret = np.array(ret)\n",
    "    ret = ret.reshape((target_size[0]*target_size[1]*3, 1))\n",
    "    \n",
    "    return ret"
   ]
  },
  {
   "cell_type": "code",
   "execution_count": 4,
   "id": "473219f0",
   "metadata": {},
   "outputs": [],
   "source": [
    "def load_dataset(dataset_dir):\n",
    "    dataset = []\n",
    "    classes = {}\n",
    "    target_size = (32,32)\n",
    "    \n",
    "    label = 0\n",
    "    for class_name in os.listdir(dataset_dir):\n",
    "        \n",
    "        # if class_name is a directory (excluding .DS_Store)\n",
    "        if not os.path.isdir(os.path.join(dataset_dir, class_name)):\n",
    "            continue\n",
    "        \n",
    "        classes[label] = class_name\n",
    "        class_img_path = os.path.join(dataset_dir, class_name)\n",
    "        \n",
    "        # preprocess all images in class_img_path and add them to dataset\n",
    "        for img in os.listdir(class_img_path):\n",
    "            img_path = os.path.join(class_img_path, img)\n",
    "            print(os.path.join(class_name, img))\n",
    "            # might fail to open image\n",
    "            try:\n",
    "                image = Image.open(img_path)\n",
    "            except:\n",
    "                continue\n",
    "                \n",
    "            preprocessed_image = preprocess(image, target_size)\n",
    "            \n",
    "            assert preprocessed_image.shape == (target_size[0]*target_size[1]*3, 1), \"image shape = {}\".format(preprocessed_image.shape)\n",
    "            \n",
    "            dataset.append((preprocessed_image, label))\n",
    "        \n",
    "        label += 1\n",
    "    \n",
    "    random.shuffle(dataset)\n",
    "    \n",
    "    return dataset, classes"
   ]
  },
  {
   "cell_type": "code",
   "execution_count": 5,
   "id": "a52d631c",
   "metadata": {},
   "outputs": [],
   "source": [
    "def split_data(dataset, train_size, test_size):\n",
    "    X_train = list(map(lambda x: x[0], dataset[:train_size]))\n",
    "    Y_train = list(map(lambda x: x[1], dataset[:train_size]))\n",
    "    X_test = list(map(lambda x: x[0], dataset[train_size:train_size+test_size]))\n",
    "    Y_test = list(map(lambda x: x[1], dataset[train_size:train_size+test_size]))\n",
    "    \n",
    "    X_train = np.concatenate(X_train, axis=1)\n",
    "    X_test = np.concatenate(X_test, axis=1)\n",
    "    Y_train = np.array(Y_train)\n",
    "    Y_test = np.array(Y_test)\n",
    "    \n",
    "    return X_train, Y_train, X_test, Y_test"
   ]
  }
 ],
 "metadata": {
  "kernelspec": {
   "display_name": "Python 3 (ipykernel)",
   "language": "python",
   "name": "python3"
  },
  "language_info": {
   "codemirror_mode": {
    "name": "ipython",
    "version": 3
   },
   "file_extension": ".py",
   "mimetype": "text/x-python",
   "name": "python",
   "nbconvert_exporter": "python",
   "pygments_lexer": "ipython3",
   "version": "3.10.8"
  }
 },
 "nbformat": 4,
 "nbformat_minor": 5
}
